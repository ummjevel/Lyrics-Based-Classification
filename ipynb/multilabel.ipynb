{
  "nbformat": 4,
  "nbformat_minor": 0,
  "metadata": {
    "colab": {
      "provenance": [],
      "collapsed_sections": []
    },
    "kernelspec": {
      "name": "python3",
      "display_name": "Python 3"
    },
    "language_info": {
      "name": "python"
    },
    "widgets": {
      "application/vnd.jupyter.widget-state+json": {
        "6c81ab9a450c4bf59daf711562719947": {
          "model_module": "@jupyter-widgets/controls",
          "model_name": "HBoxModel",
          "model_module_version": "1.5.0",
          "state": {
            "_dom_classes": [],
            "_model_module": "@jupyter-widgets/controls",
            "_model_module_version": "1.5.0",
            "_model_name": "HBoxModel",
            "_view_count": null,
            "_view_module": "@jupyter-widgets/controls",
            "_view_module_version": "1.5.0",
            "_view_name": "HBoxView",
            "box_style": "",
            "children": [
              "IPY_MODEL_1c9aac3ea2144a669b9929f39fd39dfc",
              "IPY_MODEL_1431b7acdafd4d7e87b42288273558b7",
              "IPY_MODEL_5ffe3d9ca2b441da9d68551ce47d84a6"
            ],
            "layout": "IPY_MODEL_c08d69ddd1b64581bfad741d37cbbf6f"
          }
        },
        "1c9aac3ea2144a669b9929f39fd39dfc": {
          "model_module": "@jupyter-widgets/controls",
          "model_name": "HTMLModel",
          "model_module_version": "1.5.0",
          "state": {
            "_dom_classes": [],
            "_model_module": "@jupyter-widgets/controls",
            "_model_module_version": "1.5.0",
            "_model_name": "HTMLModel",
            "_view_count": null,
            "_view_module": "@jupyter-widgets/controls",
            "_view_module_version": "1.5.0",
            "_view_name": "HTMLView",
            "description": "",
            "description_tooltip": null,
            "layout": "IPY_MODEL_9df51d15c8a74783bb5ef5ddb82f5961",
            "placeholder": "​",
            "style": "IPY_MODEL_37b91f4053fb467d8b24881f58a30a77",
            "value": "100%"
          }
        },
        "1431b7acdafd4d7e87b42288273558b7": {
          "model_module": "@jupyter-widgets/controls",
          "model_name": "FloatProgressModel",
          "model_module_version": "1.5.0",
          "state": {
            "_dom_classes": [],
            "_model_module": "@jupyter-widgets/controls",
            "_model_module_version": "1.5.0",
            "_model_name": "FloatProgressModel",
            "_view_count": null,
            "_view_module": "@jupyter-widgets/controls",
            "_view_module_version": "1.5.0",
            "_view_name": "ProgressView",
            "bar_style": "success",
            "description": "",
            "description_tooltip": null,
            "layout": "IPY_MODEL_28d32fb5e4ef40839023513f9cc1e3d5",
            "max": 6200,
            "min": 0,
            "orientation": "horizontal",
            "style": "IPY_MODEL_525ad2fa42364a63ab71d9e70e9cb917",
            "value": 6200
          }
        },
        "5ffe3d9ca2b441da9d68551ce47d84a6": {
          "model_module": "@jupyter-widgets/controls",
          "model_name": "HTMLModel",
          "model_module_version": "1.5.0",
          "state": {
            "_dom_classes": [],
            "_model_module": "@jupyter-widgets/controls",
            "_model_module_version": "1.5.0",
            "_model_name": "HTMLModel",
            "_view_count": null,
            "_view_module": "@jupyter-widgets/controls",
            "_view_module_version": "1.5.0",
            "_view_name": "HTMLView",
            "description": "",
            "description_tooltip": null,
            "layout": "IPY_MODEL_83399fb71b304a729e144dfc28ec36e3",
            "placeholder": "​",
            "style": "IPY_MODEL_8f21e84f49234adba7c6dfbb3fec6d9b",
            "value": " 6200/6200 [00:12&lt;00:00, 347.38it/s]"
          }
        },
        "c08d69ddd1b64581bfad741d37cbbf6f": {
          "model_module": "@jupyter-widgets/base",
          "model_name": "LayoutModel",
          "model_module_version": "1.2.0",
          "state": {
            "_model_module": "@jupyter-widgets/base",
            "_model_module_version": "1.2.0",
            "_model_name": "LayoutModel",
            "_view_count": null,
            "_view_module": "@jupyter-widgets/base",
            "_view_module_version": "1.2.0",
            "_view_name": "LayoutView",
            "align_content": null,
            "align_items": null,
            "align_self": null,
            "border": null,
            "bottom": null,
            "display": null,
            "flex": null,
            "flex_flow": null,
            "grid_area": null,
            "grid_auto_columns": null,
            "grid_auto_flow": null,
            "grid_auto_rows": null,
            "grid_column": null,
            "grid_gap": null,
            "grid_row": null,
            "grid_template_areas": null,
            "grid_template_columns": null,
            "grid_template_rows": null,
            "height": null,
            "justify_content": null,
            "justify_items": null,
            "left": null,
            "margin": null,
            "max_height": null,
            "max_width": null,
            "min_height": null,
            "min_width": null,
            "object_fit": null,
            "object_position": null,
            "order": null,
            "overflow": null,
            "overflow_x": null,
            "overflow_y": null,
            "padding": null,
            "right": null,
            "top": null,
            "visibility": null,
            "width": null
          }
        },
        "9df51d15c8a74783bb5ef5ddb82f5961": {
          "model_module": "@jupyter-widgets/base",
          "model_name": "LayoutModel",
          "model_module_version": "1.2.0",
          "state": {
            "_model_module": "@jupyter-widgets/base",
            "_model_module_version": "1.2.0",
            "_model_name": "LayoutModel",
            "_view_count": null,
            "_view_module": "@jupyter-widgets/base",
            "_view_module_version": "1.2.0",
            "_view_name": "LayoutView",
            "align_content": null,
            "align_items": null,
            "align_self": null,
            "border": null,
            "bottom": null,
            "display": null,
            "flex": null,
            "flex_flow": null,
            "grid_area": null,
            "grid_auto_columns": null,
            "grid_auto_flow": null,
            "grid_auto_rows": null,
            "grid_column": null,
            "grid_gap": null,
            "grid_row": null,
            "grid_template_areas": null,
            "grid_template_columns": null,
            "grid_template_rows": null,
            "height": null,
            "justify_content": null,
            "justify_items": null,
            "left": null,
            "margin": null,
            "max_height": null,
            "max_width": null,
            "min_height": null,
            "min_width": null,
            "object_fit": null,
            "object_position": null,
            "order": null,
            "overflow": null,
            "overflow_x": null,
            "overflow_y": null,
            "padding": null,
            "right": null,
            "top": null,
            "visibility": null,
            "width": null
          }
        },
        "37b91f4053fb467d8b24881f58a30a77": {
          "model_module": "@jupyter-widgets/controls",
          "model_name": "DescriptionStyleModel",
          "model_module_version": "1.5.0",
          "state": {
            "_model_module": "@jupyter-widgets/controls",
            "_model_module_version": "1.5.0",
            "_model_name": "DescriptionStyleModel",
            "_view_count": null,
            "_view_module": "@jupyter-widgets/base",
            "_view_module_version": "1.2.0",
            "_view_name": "StyleView",
            "description_width": ""
          }
        },
        "28d32fb5e4ef40839023513f9cc1e3d5": {
          "model_module": "@jupyter-widgets/base",
          "model_name": "LayoutModel",
          "model_module_version": "1.2.0",
          "state": {
            "_model_module": "@jupyter-widgets/base",
            "_model_module_version": "1.2.0",
            "_model_name": "LayoutModel",
            "_view_count": null,
            "_view_module": "@jupyter-widgets/base",
            "_view_module_version": "1.2.0",
            "_view_name": "LayoutView",
            "align_content": null,
            "align_items": null,
            "align_self": null,
            "border": null,
            "bottom": null,
            "display": null,
            "flex": null,
            "flex_flow": null,
            "grid_area": null,
            "grid_auto_columns": null,
            "grid_auto_flow": null,
            "grid_auto_rows": null,
            "grid_column": null,
            "grid_gap": null,
            "grid_row": null,
            "grid_template_areas": null,
            "grid_template_columns": null,
            "grid_template_rows": null,
            "height": null,
            "justify_content": null,
            "justify_items": null,
            "left": null,
            "margin": null,
            "max_height": null,
            "max_width": null,
            "min_height": null,
            "min_width": null,
            "object_fit": null,
            "object_position": null,
            "order": null,
            "overflow": null,
            "overflow_x": null,
            "overflow_y": null,
            "padding": null,
            "right": null,
            "top": null,
            "visibility": null,
            "width": null
          }
        },
        "525ad2fa42364a63ab71d9e70e9cb917": {
          "model_module": "@jupyter-widgets/controls",
          "model_name": "ProgressStyleModel",
          "model_module_version": "1.5.0",
          "state": {
            "_model_module": "@jupyter-widgets/controls",
            "_model_module_version": "1.5.0",
            "_model_name": "ProgressStyleModel",
            "_view_count": null,
            "_view_module": "@jupyter-widgets/base",
            "_view_module_version": "1.2.0",
            "_view_name": "StyleView",
            "bar_color": null,
            "description_width": ""
          }
        },
        "83399fb71b304a729e144dfc28ec36e3": {
          "model_module": "@jupyter-widgets/base",
          "model_name": "LayoutModel",
          "model_module_version": "1.2.0",
          "state": {
            "_model_module": "@jupyter-widgets/base",
            "_model_module_version": "1.2.0",
            "_model_name": "LayoutModel",
            "_view_count": null,
            "_view_module": "@jupyter-widgets/base",
            "_view_module_version": "1.2.0",
            "_view_name": "LayoutView",
            "align_content": null,
            "align_items": null,
            "align_self": null,
            "border": null,
            "bottom": null,
            "display": null,
            "flex": null,
            "flex_flow": null,
            "grid_area": null,
            "grid_auto_columns": null,
            "grid_auto_flow": null,
            "grid_auto_rows": null,
            "grid_column": null,
            "grid_gap": null,
            "grid_row": null,
            "grid_template_areas": null,
            "grid_template_columns": null,
            "grid_template_rows": null,
            "height": null,
            "justify_content": null,
            "justify_items": null,
            "left": null,
            "margin": null,
            "max_height": null,
            "max_width": null,
            "min_height": null,
            "min_width": null,
            "object_fit": null,
            "object_position": null,
            "order": null,
            "overflow": null,
            "overflow_x": null,
            "overflow_y": null,
            "padding": null,
            "right": null,
            "top": null,
            "visibility": null,
            "width": null
          }
        },
        "8f21e84f49234adba7c6dfbb3fec6d9b": {
          "model_module": "@jupyter-widgets/controls",
          "model_name": "DescriptionStyleModel",
          "model_module_version": "1.5.0",
          "state": {
            "_model_module": "@jupyter-widgets/controls",
            "_model_module_version": "1.5.0",
            "_model_name": "DescriptionStyleModel",
            "_view_count": null,
            "_view_module": "@jupyter-widgets/base",
            "_view_module_version": "1.2.0",
            "_view_name": "StyleView",
            "description_width": ""
          }
        }
      }
    }
  },
  "cells": [
    {
      "cell_type": "code",
      "execution_count": 1,
      "metadata": {
        "colab": {
          "base_uri": "https://localhost:8080/"
        },
        "id": "WPcIXkx4JRfL",
        "outputId": "d16dda70-1f2c-41f6-b8af-eb73b85dee3c"
      },
      "outputs": [
        {
          "output_type": "stream",
          "name": "stdout",
          "text": [
            "Looking in indexes: https://pypi.org/simple, https://us-python.pkg.dev/colab-wheels/public/simple/\n",
            "Collecting konlpy\n",
            "  Downloading konlpy-0.6.0-py2.py3-none-any.whl (19.4 MB)\n",
            "\u001b[K     |████████████████████████████████| 19.4 MB 1.2 MB/s \n",
            "\u001b[?25hRequirement already satisfied: lxml>=4.1.0 in /usr/local/lib/python3.7/dist-packages (from konlpy) (4.9.1)\n",
            "Collecting JPype1>=0.7.0\n",
            "  Downloading JPype1-1.4.1-cp37-cp37m-manylinux_2_12_x86_64.manylinux2010_x86_64.whl (465 kB)\n",
            "\u001b[K     |████████████████████████████████| 465 kB 67.1 MB/s \n",
            "\u001b[?25hRequirement already satisfied: numpy>=1.6 in /usr/local/lib/python3.7/dist-packages (from konlpy) (1.21.6)\n",
            "Requirement already satisfied: typing-extensions in /usr/local/lib/python3.7/dist-packages (from JPype1>=0.7.0->konlpy) (4.1.1)\n",
            "Requirement already satisfied: packaging in /usr/local/lib/python3.7/dist-packages (from JPype1>=0.7.0->konlpy) (21.3)\n",
            "Requirement already satisfied: pyparsing!=3.0.5,>=2.0.2 in /usr/local/lib/python3.7/dist-packages (from packaging->JPype1>=0.7.0->konlpy) (3.0.9)\n",
            "Installing collected packages: JPype1, konlpy\n",
            "Successfully installed JPype1-1.4.1 konlpy-0.6.0\n"
          ]
        }
      ],
      "source": [
        "!pip install konlpy"
      ]
    },
    {
      "cell_type": "code",
      "source": [
        "import pickle\n",
        "from google.colab import drive\n",
        "\n",
        "import pandas as pd\n",
        "import numpy as np\n",
        "\n",
        "import seaborn as sns\n",
        "import matplotlib.pyplot as plt\n",
        "%matplotlib inline\n",
        "\n",
        "from sklearn.impute import SimpleImputer\n",
        "from sklearn.preprocessing import OneHotEncoder, StandardScaler\n",
        "from sklearn.base import BaseEstimator, TransformerMixin\n",
        "\n",
        "from sklearn.ensemble import RandomForestClassifier, AdaBoostClassifier, GradientBoostingClassifier, ExtraTreesClassifier, VotingClassifier\n",
        "from sklearn.discriminant_analysis import LinearDiscriminantAnalysis\n",
        "from sklearn.linear_model import LogisticRegression\n",
        "from sklearn.neighbors import KNeighborsClassifier\n",
        "from sklearn.tree import DecisionTreeClassifier\n",
        "from sklearn.neural_network import MLPClassifier\n",
        "from sklearn.svm import SVC\n",
        "\n",
        "from sklearn.model_selection import train_test_split\n",
        "from sklearn.model_selection import GridSearchCV, cross_val_score, StratifiedKFold, learning_curve\n",
        "from sklearn.ensemble import VotingClassifier\n",
        "from sklearn.model_selection import cross_val_predict\n",
        "from sklearn import model_selection\n",
        "\n",
        "from tqdm.notebook import tqdm\n",
        "from collections import Counter\n",
        "import statistics as stats\n",
        "import re\n",
        "\n",
        "from konlpy.tag import Okt\n",
        "from sklearn.model_selection import train_test_split\n",
        "\n",
        "from sklearn.feature_extraction.text import CountVectorizer, TfidfVectorizer\n",
        "from sklearn.linear_model import LogisticRegression\n"
      ],
      "metadata": {
        "id": "ZK-tUoqrJXIL"
      },
      "execution_count": 2,
      "outputs": []
    },
    {
      "cell_type": "code",
      "source": [
        "import numpy as np\n",
        "from sklearn.datasets import make_multilabel_classification\n",
        "from sklearn.linear_model import LogisticRegression"
      ],
      "metadata": {
        "id": "sAtwv8r1JZh1"
      },
      "execution_count": 3,
      "outputs": []
    },
    {
      "cell_type": "code",
      "source": [
        "from sklearn.multioutput import MultiOutputClassifier"
      ],
      "metadata": {
        "id": "-U8Qc_uzJbxI"
      },
      "execution_count": 4,
      "outputs": []
    },
    {
      "cell_type": "code",
      "source": [
        "songs = pd.read_excel('/content/song_lyrics_labeled.xlsx')\n",
        "songs.dropna(inplace=True)\n",
        "songs"
      ],
      "metadata": {
        "colab": {
          "base_uri": "https://localhost:8080/",
          "height": 1000
        },
        "id": "bjmW36elJdUb",
        "outputId": "2d34dfd7-680e-4588-f6d6-d0d8bcc8898b"
      },
      "execution_count": 5,
      "outputs": [
        {
          "output_type": "execute_result",
          "data": {
            "text/plain": [
              "      Unnamed: 0  Unnamed: 0.1  Unnamed: 0.1.1  year       singer  \\\n",
              "0              0             0               0  1964          금호동   \n",
              "1              1             1               1  1964          최숙자   \n",
              "2              2             2               2  1964          이미자   \n",
              "3              3             3               3  1964          이미자   \n",
              "4              4             4               4  1964           현미   \n",
              "...          ...           ...             ...   ...          ...   \n",
              "6195        6195          6195            7432  2021     IVE(아이브)   \n",
              "6196        6196          6196            7433  2021          다비치   \n",
              "6197        6197          6197            7434  2021      아이유(IU)   \n",
              "6198        6198          6198            7435  2021  폴킴(PaulKim)   \n",
              "6199        6199          6199            7436  2021      아이유(IU)   \n",
              "\n",
              "                           names categories  \\\n",
              "0                        내일또만납시다         희망   \n",
              "1                         눈물의연평도     후회, 자연   \n",
              "2                        님이라부르리까         사랑   \n",
              "3                          동백아가씨     사랑, 후회   \n",
              "4                        떠날때는말없이     사랑, 후회   \n",
              "...                          ...        ...   \n",
              "6195                      ELEVEN         사랑   \n",
              "6196  매일크리스마스(EverydayChristmas)         사랑   \n",
              "6197                         겨울잠         희망   \n",
              "6198                       찬란한계절         사랑   \n",
              "6199                         드라마         희망   \n",
              "\n",
              "                                                 lyrics  hope  money  ...  \\\n",
              "0     하루의 일을 끝내고 돌아가는거리엔 사람의 물결하늘엔 별이 하나 둘 반짝이면가로등 하...     1      0  ...   \n",
              "1     조기를 담뿍잡아기폭을 올리고온다던 그배는어이하여 아니오나수평선 바라보며그이름 부르면...     0      0  ...   \n",
              "2     <1절 임이라 부르리까 당신이라고 부르리까 사랑을 하면서도 사랑을 참고사는 마음으로...     0      0  ...   \n",
              "3     헤일 수 없이 수많은 밤을내 가슴 도려내는 아픔에 겨워얼마나 울었던가 동백아가씨그리...     0      0  ...   \n",
              "4     그 날 밤 그 자리에둘이서 만났을 때똑같은 그 순간에똑같은 마음이달빛에 젖은 채밤새...     0      0  ...   \n",
              "...                                                 ...   ...    ...  ...   \n",
              "6195  따분한 나의 눈빛이 무표정했던 얼굴이 널 보며 빛나고 있어 널 담은 눈동자는  내 ...     0      0  ...   \n",
              "6196             모두가 기다려온 이 겨울 두 손엔 가득 선물을 행복한 사람들 빛...     0      0  ...   \n",
              "6197  때 이른 봄 몇 송이 꺾어다 너의 방 문 앞에 두었어 긴 잠 실컷 자고 나오면 그때...     1      0  ...   \n",
              "6198  비가 내리는 반대편으로 여름을 향해 달리네 내게로 내미는 어떤 것도 끝내 붙잡지 못...     0      0  ...   \n",
              "6199  나도 한때는 그이의 손을 잡고 내가 온 세상 주인공이 된 듯 꽃송이의 꽃잎 하나하나...     1      0  ...   \n",
              "\n",
              "      friend  equal  swear  nature  regret  memory  sf  food  confi  enjoy  \n",
              "0          0      0      0       0       0       0   0     0      0      0  \n",
              "1          0      0      0       1       1       0   0     0      0      0  \n",
              "2          0      0      0       0       0       0   0     0      0      0  \n",
              "3          0      0      0       0       1       0   0     0      0      0  \n",
              "4          0      0      0       0       1       0   0     0      0      0  \n",
              "...      ...    ...    ...     ...     ...     ...  ..   ...    ...    ...  \n",
              "6195       0      0      0       0       0       0   0     0      0      0  \n",
              "6196       0      0      0       0       0       0   0     0      0      0  \n",
              "6197       0      0      0       0       0       0   0     0      0      0  \n",
              "6198       0      0      0       0       0       0   0     0      0      0  \n",
              "6199       0      0      0       0       0       0   0     0      0      0  \n",
              "\n",
              "[6200 rows x 22 columns]"
            ],
            "text/html": [
              "\n",
              "  <div id=\"df-38c3286e-3e4a-46f8-832e-b87191269938\">\n",
              "    <div class=\"colab-df-container\">\n",
              "      <div>\n",
              "<style scoped>\n",
              "    .dataframe tbody tr th:only-of-type {\n",
              "        vertical-align: middle;\n",
              "    }\n",
              "\n",
              "    .dataframe tbody tr th {\n",
              "        vertical-align: top;\n",
              "    }\n",
              "\n",
              "    .dataframe thead th {\n",
              "        text-align: right;\n",
              "    }\n",
              "</style>\n",
              "<table border=\"1\" class=\"dataframe\">\n",
              "  <thead>\n",
              "    <tr style=\"text-align: right;\">\n",
              "      <th></th>\n",
              "      <th>Unnamed: 0</th>\n",
              "      <th>Unnamed: 0.1</th>\n",
              "      <th>Unnamed: 0.1.1</th>\n",
              "      <th>year</th>\n",
              "      <th>singer</th>\n",
              "      <th>names</th>\n",
              "      <th>categories</th>\n",
              "      <th>lyrics</th>\n",
              "      <th>hope</th>\n",
              "      <th>money</th>\n",
              "      <th>...</th>\n",
              "      <th>friend</th>\n",
              "      <th>equal</th>\n",
              "      <th>swear</th>\n",
              "      <th>nature</th>\n",
              "      <th>regret</th>\n",
              "      <th>memory</th>\n",
              "      <th>sf</th>\n",
              "      <th>food</th>\n",
              "      <th>confi</th>\n",
              "      <th>enjoy</th>\n",
              "    </tr>\n",
              "  </thead>\n",
              "  <tbody>\n",
              "    <tr>\n",
              "      <th>0</th>\n",
              "      <td>0</td>\n",
              "      <td>0</td>\n",
              "      <td>0</td>\n",
              "      <td>1964</td>\n",
              "      <td>금호동</td>\n",
              "      <td>내일또만납시다</td>\n",
              "      <td>희망</td>\n",
              "      <td>하루의 일을 끝내고 돌아가는거리엔 사람의 물결하늘엔 별이 하나 둘 반짝이면가로등 하...</td>\n",
              "      <td>1</td>\n",
              "      <td>0</td>\n",
              "      <td>...</td>\n",
              "      <td>0</td>\n",
              "      <td>0</td>\n",
              "      <td>0</td>\n",
              "      <td>0</td>\n",
              "      <td>0</td>\n",
              "      <td>0</td>\n",
              "      <td>0</td>\n",
              "      <td>0</td>\n",
              "      <td>0</td>\n",
              "      <td>0</td>\n",
              "    </tr>\n",
              "    <tr>\n",
              "      <th>1</th>\n",
              "      <td>1</td>\n",
              "      <td>1</td>\n",
              "      <td>1</td>\n",
              "      <td>1964</td>\n",
              "      <td>최숙자</td>\n",
              "      <td>눈물의연평도</td>\n",
              "      <td>후회, 자연</td>\n",
              "      <td>조기를 담뿍잡아기폭을 올리고온다던 그배는어이하여 아니오나수평선 바라보며그이름 부르면...</td>\n",
              "      <td>0</td>\n",
              "      <td>0</td>\n",
              "      <td>...</td>\n",
              "      <td>0</td>\n",
              "      <td>0</td>\n",
              "      <td>0</td>\n",
              "      <td>1</td>\n",
              "      <td>1</td>\n",
              "      <td>0</td>\n",
              "      <td>0</td>\n",
              "      <td>0</td>\n",
              "      <td>0</td>\n",
              "      <td>0</td>\n",
              "    </tr>\n",
              "    <tr>\n",
              "      <th>2</th>\n",
              "      <td>2</td>\n",
              "      <td>2</td>\n",
              "      <td>2</td>\n",
              "      <td>1964</td>\n",
              "      <td>이미자</td>\n",
              "      <td>님이라부르리까</td>\n",
              "      <td>사랑</td>\n",
              "      <td>&lt;1절 임이라 부르리까 당신이라고 부르리까 사랑을 하면서도 사랑을 참고사는 마음으로...</td>\n",
              "      <td>0</td>\n",
              "      <td>0</td>\n",
              "      <td>...</td>\n",
              "      <td>0</td>\n",
              "      <td>0</td>\n",
              "      <td>0</td>\n",
              "      <td>0</td>\n",
              "      <td>0</td>\n",
              "      <td>0</td>\n",
              "      <td>0</td>\n",
              "      <td>0</td>\n",
              "      <td>0</td>\n",
              "      <td>0</td>\n",
              "    </tr>\n",
              "    <tr>\n",
              "      <th>3</th>\n",
              "      <td>3</td>\n",
              "      <td>3</td>\n",
              "      <td>3</td>\n",
              "      <td>1964</td>\n",
              "      <td>이미자</td>\n",
              "      <td>동백아가씨</td>\n",
              "      <td>사랑, 후회</td>\n",
              "      <td>헤일 수 없이 수많은 밤을내 가슴 도려내는 아픔에 겨워얼마나 울었던가 동백아가씨그리...</td>\n",
              "      <td>0</td>\n",
              "      <td>0</td>\n",
              "      <td>...</td>\n",
              "      <td>0</td>\n",
              "      <td>0</td>\n",
              "      <td>0</td>\n",
              "      <td>0</td>\n",
              "      <td>1</td>\n",
              "      <td>0</td>\n",
              "      <td>0</td>\n",
              "      <td>0</td>\n",
              "      <td>0</td>\n",
              "      <td>0</td>\n",
              "    </tr>\n",
              "    <tr>\n",
              "      <th>4</th>\n",
              "      <td>4</td>\n",
              "      <td>4</td>\n",
              "      <td>4</td>\n",
              "      <td>1964</td>\n",
              "      <td>현미</td>\n",
              "      <td>떠날때는말없이</td>\n",
              "      <td>사랑, 후회</td>\n",
              "      <td>그 날 밤 그 자리에둘이서 만났을 때똑같은 그 순간에똑같은 마음이달빛에 젖은 채밤새...</td>\n",
              "      <td>0</td>\n",
              "      <td>0</td>\n",
              "      <td>...</td>\n",
              "      <td>0</td>\n",
              "      <td>0</td>\n",
              "      <td>0</td>\n",
              "      <td>0</td>\n",
              "      <td>1</td>\n",
              "      <td>0</td>\n",
              "      <td>0</td>\n",
              "      <td>0</td>\n",
              "      <td>0</td>\n",
              "      <td>0</td>\n",
              "    </tr>\n",
              "    <tr>\n",
              "      <th>...</th>\n",
              "      <td>...</td>\n",
              "      <td>...</td>\n",
              "      <td>...</td>\n",
              "      <td>...</td>\n",
              "      <td>...</td>\n",
              "      <td>...</td>\n",
              "      <td>...</td>\n",
              "      <td>...</td>\n",
              "      <td>...</td>\n",
              "      <td>...</td>\n",
              "      <td>...</td>\n",
              "      <td>...</td>\n",
              "      <td>...</td>\n",
              "      <td>...</td>\n",
              "      <td>...</td>\n",
              "      <td>...</td>\n",
              "      <td>...</td>\n",
              "      <td>...</td>\n",
              "      <td>...</td>\n",
              "      <td>...</td>\n",
              "      <td>...</td>\n",
              "    </tr>\n",
              "    <tr>\n",
              "      <th>6195</th>\n",
              "      <td>6195</td>\n",
              "      <td>6195</td>\n",
              "      <td>7432</td>\n",
              "      <td>2021</td>\n",
              "      <td>IVE(아이브)</td>\n",
              "      <td>ELEVEN</td>\n",
              "      <td>사랑</td>\n",
              "      <td>따분한 나의 눈빛이 무표정했던 얼굴이 널 보며 빛나고 있어 널 담은 눈동자는  내 ...</td>\n",
              "      <td>0</td>\n",
              "      <td>0</td>\n",
              "      <td>...</td>\n",
              "      <td>0</td>\n",
              "      <td>0</td>\n",
              "      <td>0</td>\n",
              "      <td>0</td>\n",
              "      <td>0</td>\n",
              "      <td>0</td>\n",
              "      <td>0</td>\n",
              "      <td>0</td>\n",
              "      <td>0</td>\n",
              "      <td>0</td>\n",
              "    </tr>\n",
              "    <tr>\n",
              "      <th>6196</th>\n",
              "      <td>6196</td>\n",
              "      <td>6196</td>\n",
              "      <td>7433</td>\n",
              "      <td>2021</td>\n",
              "      <td>다비치</td>\n",
              "      <td>매일크리스마스(EverydayChristmas)</td>\n",
              "      <td>사랑</td>\n",
              "      <td>모두가 기다려온 이 겨울 두 손엔 가득 선물을 행복한 사람들 빛...</td>\n",
              "      <td>0</td>\n",
              "      <td>0</td>\n",
              "      <td>...</td>\n",
              "      <td>0</td>\n",
              "      <td>0</td>\n",
              "      <td>0</td>\n",
              "      <td>0</td>\n",
              "      <td>0</td>\n",
              "      <td>0</td>\n",
              "      <td>0</td>\n",
              "      <td>0</td>\n",
              "      <td>0</td>\n",
              "      <td>0</td>\n",
              "    </tr>\n",
              "    <tr>\n",
              "      <th>6197</th>\n",
              "      <td>6197</td>\n",
              "      <td>6197</td>\n",
              "      <td>7434</td>\n",
              "      <td>2021</td>\n",
              "      <td>아이유(IU)</td>\n",
              "      <td>겨울잠</td>\n",
              "      <td>희망</td>\n",
              "      <td>때 이른 봄 몇 송이 꺾어다 너의 방 문 앞에 두었어 긴 잠 실컷 자고 나오면 그때...</td>\n",
              "      <td>1</td>\n",
              "      <td>0</td>\n",
              "      <td>...</td>\n",
              "      <td>0</td>\n",
              "      <td>0</td>\n",
              "      <td>0</td>\n",
              "      <td>0</td>\n",
              "      <td>0</td>\n",
              "      <td>0</td>\n",
              "      <td>0</td>\n",
              "      <td>0</td>\n",
              "      <td>0</td>\n",
              "      <td>0</td>\n",
              "    </tr>\n",
              "    <tr>\n",
              "      <th>6198</th>\n",
              "      <td>6198</td>\n",
              "      <td>6198</td>\n",
              "      <td>7435</td>\n",
              "      <td>2021</td>\n",
              "      <td>폴킴(PaulKim)</td>\n",
              "      <td>찬란한계절</td>\n",
              "      <td>사랑</td>\n",
              "      <td>비가 내리는 반대편으로 여름을 향해 달리네 내게로 내미는 어떤 것도 끝내 붙잡지 못...</td>\n",
              "      <td>0</td>\n",
              "      <td>0</td>\n",
              "      <td>...</td>\n",
              "      <td>0</td>\n",
              "      <td>0</td>\n",
              "      <td>0</td>\n",
              "      <td>0</td>\n",
              "      <td>0</td>\n",
              "      <td>0</td>\n",
              "      <td>0</td>\n",
              "      <td>0</td>\n",
              "      <td>0</td>\n",
              "      <td>0</td>\n",
              "    </tr>\n",
              "    <tr>\n",
              "      <th>6199</th>\n",
              "      <td>6199</td>\n",
              "      <td>6199</td>\n",
              "      <td>7436</td>\n",
              "      <td>2021</td>\n",
              "      <td>아이유(IU)</td>\n",
              "      <td>드라마</td>\n",
              "      <td>희망</td>\n",
              "      <td>나도 한때는 그이의 손을 잡고 내가 온 세상 주인공이 된 듯 꽃송이의 꽃잎 하나하나...</td>\n",
              "      <td>1</td>\n",
              "      <td>0</td>\n",
              "      <td>...</td>\n",
              "      <td>0</td>\n",
              "      <td>0</td>\n",
              "      <td>0</td>\n",
              "      <td>0</td>\n",
              "      <td>0</td>\n",
              "      <td>0</td>\n",
              "      <td>0</td>\n",
              "      <td>0</td>\n",
              "      <td>0</td>\n",
              "      <td>0</td>\n",
              "    </tr>\n",
              "  </tbody>\n",
              "</table>\n",
              "<p>6200 rows × 22 columns</p>\n",
              "</div>\n",
              "      <button class=\"colab-df-convert\" onclick=\"convertToInteractive('df-38c3286e-3e4a-46f8-832e-b87191269938')\"\n",
              "              title=\"Convert this dataframe to an interactive table.\"\n",
              "              style=\"display:none;\">\n",
              "        \n",
              "  <svg xmlns=\"http://www.w3.org/2000/svg\" height=\"24px\"viewBox=\"0 0 24 24\"\n",
              "       width=\"24px\">\n",
              "    <path d=\"M0 0h24v24H0V0z\" fill=\"none\"/>\n",
              "    <path d=\"M18.56 5.44l.94 2.06.94-2.06 2.06-.94-2.06-.94-.94-2.06-.94 2.06-2.06.94zm-11 1L8.5 8.5l.94-2.06 2.06-.94-2.06-.94L8.5 2.5l-.94 2.06-2.06.94zm10 10l.94 2.06.94-2.06 2.06-.94-2.06-.94-.94-2.06-.94 2.06-2.06.94z\"/><path d=\"M17.41 7.96l-1.37-1.37c-.4-.4-.92-.59-1.43-.59-.52 0-1.04.2-1.43.59L10.3 9.45l-7.72 7.72c-.78.78-.78 2.05 0 2.83L4 21.41c.39.39.9.59 1.41.59.51 0 1.02-.2 1.41-.59l7.78-7.78 2.81-2.81c.8-.78.8-2.07 0-2.86zM5.41 20L4 18.59l7.72-7.72 1.47 1.35L5.41 20z\"/>\n",
              "  </svg>\n",
              "      </button>\n",
              "      \n",
              "  <style>\n",
              "    .colab-df-container {\n",
              "      display:flex;\n",
              "      flex-wrap:wrap;\n",
              "      gap: 12px;\n",
              "    }\n",
              "\n",
              "    .colab-df-convert {\n",
              "      background-color: #E8F0FE;\n",
              "      border: none;\n",
              "      border-radius: 50%;\n",
              "      cursor: pointer;\n",
              "      display: none;\n",
              "      fill: #1967D2;\n",
              "      height: 32px;\n",
              "      padding: 0 0 0 0;\n",
              "      width: 32px;\n",
              "    }\n",
              "\n",
              "    .colab-df-convert:hover {\n",
              "      background-color: #E2EBFA;\n",
              "      box-shadow: 0px 1px 2px rgba(60, 64, 67, 0.3), 0px 1px 3px 1px rgba(60, 64, 67, 0.15);\n",
              "      fill: #174EA6;\n",
              "    }\n",
              "\n",
              "    [theme=dark] .colab-df-convert {\n",
              "      background-color: #3B4455;\n",
              "      fill: #D2E3FC;\n",
              "    }\n",
              "\n",
              "    [theme=dark] .colab-df-convert:hover {\n",
              "      background-color: #434B5C;\n",
              "      box-shadow: 0px 1px 3px 1px rgba(0, 0, 0, 0.15);\n",
              "      filter: drop-shadow(0px 1px 2px rgba(0, 0, 0, 0.3));\n",
              "      fill: #FFFFFF;\n",
              "    }\n",
              "  </style>\n",
              "\n",
              "      <script>\n",
              "        const buttonEl =\n",
              "          document.querySelector('#df-38c3286e-3e4a-46f8-832e-b87191269938 button.colab-df-convert');\n",
              "        buttonEl.style.display =\n",
              "          google.colab.kernel.accessAllowed ? 'block' : 'none';\n",
              "\n",
              "        async function convertToInteractive(key) {\n",
              "          const element = document.querySelector('#df-38c3286e-3e4a-46f8-832e-b87191269938');\n",
              "          const dataTable =\n",
              "            await google.colab.kernel.invokeFunction('convertToInteractive',\n",
              "                                                     [key], {});\n",
              "          if (!dataTable) return;\n",
              "\n",
              "          const docLinkHtml = 'Like what you see? Visit the ' +\n",
              "            '<a target=\"_blank\" href=https://colab.research.google.com/notebooks/data_table.ipynb>data table notebook</a>'\n",
              "            + ' to learn more about interactive tables.';\n",
              "          element.innerHTML = '';\n",
              "          dataTable['output_type'] = 'display_data';\n",
              "          await google.colab.output.renderOutput(dataTable, element);\n",
              "          const docLink = document.createElement('div');\n",
              "          docLink.innerHTML = docLinkHtml;\n",
              "          element.appendChild(docLink);\n",
              "        }\n",
              "      </script>\n",
              "    </div>\n",
              "  </div>\n",
              "  "
            ]
          },
          "metadata": {},
          "execution_count": 5
        }
      ]
    },
    {
      "cell_type": "code",
      "source": [
        "def combine_df(df):\n",
        "  full = []\n",
        "  for i in tqdm(range(df.shape[0])):\n",
        "    sem = []\n",
        "    for j in range(8,22):\n",
        "      sem.append(songs.iloc[i][j])\n",
        "    full.append(sem)\n",
        "  return full"
      ],
      "metadata": {
        "id": "YEEDrD7XJ9PD"
      },
      "execution_count": 6,
      "outputs": []
    },
    {
      "cell_type": "code",
      "source": [
        "full = combine_df(songs)\n",
        "songs['full'] = full"
      ],
      "metadata": {
        "colab": {
          "base_uri": "https://localhost:8080/",
          "height": 49,
          "referenced_widgets": [
            "6c81ab9a450c4bf59daf711562719947",
            "1c9aac3ea2144a669b9929f39fd39dfc",
            "1431b7acdafd4d7e87b42288273558b7",
            "5ffe3d9ca2b441da9d68551ce47d84a6",
            "c08d69ddd1b64581bfad741d37cbbf6f",
            "9df51d15c8a74783bb5ef5ddb82f5961",
            "37b91f4053fb467d8b24881f58a30a77",
            "28d32fb5e4ef40839023513f9cc1e3d5",
            "525ad2fa42364a63ab71d9e70e9cb917",
            "83399fb71b304a729e144dfc28ec36e3",
            "8f21e84f49234adba7c6dfbb3fec6d9b"
          ]
        },
        "id": "i666JWNiJ9jT",
        "outputId": "c5ed2316-b450-4e03-8c61-1e5b6ac623cb"
      },
      "execution_count": 7,
      "outputs": [
        {
          "output_type": "display_data",
          "data": {
            "text/plain": [
              "  0%|          | 0/6200 [00:00<?, ?it/s]"
            ],
            "application/vnd.jupyter.widget-view+json": {
              "version_major": 2,
              "version_minor": 0,
              "model_id": "6c81ab9a450c4bf59daf711562719947"
            }
          },
          "metadata": {}
        }
      ]
    },
    {
      "cell_type": "code",
      "source": [
        "X = songs.lyrics\n",
        "y = songs.full"
      ],
      "metadata": {
        "id": "mBB8v8sCJ_Lt"
      },
      "execution_count": 8,
      "outputs": []
    },
    {
      "cell_type": "code",
      "source": [
        "y = np.array(y.tolist())"
      ],
      "metadata": {
        "id": "EbtzgHOTLAil"
      },
      "execution_count": 9,
      "outputs": []
    },
    {
      "cell_type": "code",
      "source": [
        "stop_list = ['잠', '바', '워', '몸', '진짜', '언젠가', '죽다', '힘', '뭐라다', '절대', '그저', '애', '하얗다', '돌다', '누가', '크다', '늘', '다시다', '뜨겁다', '아침', '가지', '숨', '상처', '뛰다', '순', '듣다', '머리', '단지', '이상', '꼭', '어리다', '기다', '따르다', '채', '향', '떨어지다', '듯', '예', '뜨다', '아직도', '갖다', '전', '나오다']\n",
        "stop_list2 = ['받다', '때문', '지다', '서다', '이름', '많이', '수가', '조금', '아래', '두', '좀', '의', '무엇', '한번']\n",
        "stop_list3 = ['줄', '처럼', '누구', '뿐', '만들다', '게', '순간', '어디', '미치다', '다른', '길', '뭐', '음', '안녕', '저', '건', '하루', '그래서', '여기', '이렇다', '손', '그렇게','우', '자다', '많다', '노래', '뒤', '응', '곳', '말다', '거', '정말', '대다', '이다', '웃다', '못', '하늘', '에스', '어떻다', '없이', '해주다', '곁', '나다', '티', '모든', '이렇게', '들다']\n",
        "stop_list4 = ['하다', '있다', '없다', '말', '되다', '그렇다', '생각', '걸', '그', '것', '오', '이', '다', '속','해',\n",
        " '돼다', '알', '젠', '나르다', '주다', '아기', '중', '사람', '오다','가다','않다']"
      ],
      "metadata": {
        "id": "i3-JZQVAMlZC"
      },
      "execution_count": 10,
      "outputs": []
    },
    {
      "cell_type": "code",
      "source": [
        "stop_list.extend(stop_list2)\n",
        "stop_list.extend(stop_list3)\n",
        "stop_list.extend(stop_list4)"
      ],
      "metadata": {
        "id": "WrXS6hyHMnW_"
      },
      "execution_count": 11,
      "outputs": []
    },
    {
      "cell_type": "code",
      "source": [
        "def preprocessing(review): \n",
        "    okt = Okt()\n",
        "    \n",
        "    # f = open('nsmc_stopwords.txt')\n",
        "    # stop_words = f.read().split()\n",
        "    \n",
        "    # 1. 한글 및 공백을 제외한 문자 모두 제거.\n",
        "    review_text = re.sub(\"[^가-힣\\\\s]\", \"\", review)\n",
        "    \n",
        "    # 2. okt 객체를 활용해서 형태소 토큰화 + 품사 태깅\n",
        "    word_review = okt.pos(review_text, stem=True)\n",
        "    \n",
        "    # 노이즈 & 불용어 제거\n",
        "    word_review = [(token, pos) for token, pos in word_review if not token in stop_list]\n",
        "    \n",
        "    # 명사, 동사, 형용사 추출\n",
        "    word_review = [token for token, pos in word_review if pos in ['Noun', 'Verb', 'Adjective', 'Adverb']]\n",
        "\n",
        "    return word_review"
      ],
      "metadata": {
        "id": "rHtE1bVzMSHa"
      },
      "execution_count": 12,
      "outputs": []
    },
    {
      "cell_type": "code",
      "source": [
        "X_train, X_test, y_train, y_test = train_test_split(X, y, random_state=0, train_size = .8\n",
        ")"
      ],
      "metadata": {
        "id": "mEq4Rdh3MX9z"
      },
      "execution_count": 13,
      "outputs": []
    },
    {
      "cell_type": "code",
      "source": [
        "tfidf = TfidfVectorizer(tokenizer=preprocessing, max_features=3000, min_df=5, max_df=0.5) \n",
        "\n",
        "X_train_tfidf = tfidf.fit_transform(X_train)\n",
        "X_test_tfidf = tfidf.transform(X_test)\n",
        "\n",
        "X_train_tfidf.toarray()"
      ],
      "metadata": {
        "colab": {
          "base_uri": "https://localhost:8080/"
        },
        "id": "RrwO2RkBMTcU",
        "outputId": "0bcee040-cd20-4042-a29d-8e3c15f897cb"
      },
      "execution_count": 14,
      "outputs": [
        {
          "output_type": "execute_result",
          "data": {
            "text/plain": [
              "array([[0., 0., 0., ..., 0., 0., 0.],\n",
              "       [0., 0., 0., ..., 0., 0., 0.],\n",
              "       [0., 0., 0., ..., 0., 0., 0.],\n",
              "       ...,\n",
              "       [0., 0., 0., ..., 0., 0., 0.],\n",
              "       [0., 0., 0., ..., 0., 0., 0.],\n",
              "       [0., 0., 0., ..., 0., 0., 0.]])"
            ]
          },
          "metadata": {},
          "execution_count": 14
        }
      ]
    },
    {
      "cell_type": "code",
      "source": [
        "# clf = MultiOutputClassifier(estimator= LogisticRegression()).fit(X_test_tfidf, y_test)\n",
        "# clf.predict(X_test_tfidf)"
      ],
      "metadata": {
        "id": "2YSyBMZ3KD0i"
      },
      "execution_count": 15,
      "outputs": []
    },
    {
      "cell_type": "code",
      "source": [
        "# clf.score(X_test_tfidf, y_test)"
      ],
      "metadata": {
        "id": "Pa8gAoBcKGwd"
      },
      "execution_count": 16,
      "outputs": []
    },
    {
      "cell_type": "markdown",
      "source": [
        "### 1. Random Froest "
      ],
      "metadata": {
        "id": "-jmNKoWMO_4z"
      }
    },
    {
      "cell_type": "code",
      "source": [
        "RFC = MultiOutputClassifier(estimator= RandomForestClassifier()).fit(X_test_tfidf, y_test)\n",
        "RFC.predict(X_test_tfidf)"
      ],
      "metadata": {
        "colab": {
          "base_uri": "https://localhost:8080/"
        },
        "id": "43hvCSEhNokU",
        "outputId": "c50dbe9f-dfc0-4828-accd-222e179151d2"
      },
      "execution_count": 17,
      "outputs": [
        {
          "output_type": "execute_result",
          "data": {
            "text/plain": [
              "array([[0, 0, 0, ..., 0, 0, 0],\n",
              "       [0, 0, 1, ..., 0, 0, 0],\n",
              "       [0, 0, 0, ..., 0, 0, 0],\n",
              "       ...,\n",
              "       [0, 0, 1, ..., 0, 0, 0],\n",
              "       [0, 0, 1, ..., 0, 0, 0],\n",
              "       [0, 0, 1, ..., 0, 0, 0]])"
            ]
          },
          "metadata": {},
          "execution_count": 17
        }
      ]
    },
    {
      "cell_type": "code",
      "source": [
        "RFC_score = RFC.score(X_test_tfidf, y_test)"
      ],
      "metadata": {
        "id": "g4P0g9tNOj_Q"
      },
      "execution_count": 18,
      "outputs": []
    },
    {
      "cell_type": "markdown",
      "source": [
        "### 2. KNN (K-Nearest Neighbors)"
      ],
      "metadata": {
        "id": "y1gXadLxPGB7"
      }
    },
    {
      "cell_type": "code",
      "source": [
        "KNN = MultiOutputClassifier(estimator= KNeighborsClassifier()).fit(X_test_tfidf, y_test)\n",
        "KNN.predict(X_test_tfidf)"
      ],
      "metadata": {
        "colab": {
          "base_uri": "https://localhost:8080/"
        },
        "id": "IOiZJJMbOoeV",
        "outputId": "247b8d27-5941-496a-deec-84f93f1959db"
      },
      "execution_count": 19,
      "outputs": [
        {
          "output_type": "execute_result",
          "data": {
            "text/plain": [
              "array([[0, 0, 0, ..., 0, 0, 0],\n",
              "       [0, 0, 0, ..., 0, 0, 0],\n",
              "       [0, 0, 0, ..., 0, 0, 0],\n",
              "       ...,\n",
              "       [0, 0, 1, ..., 0, 0, 0],\n",
              "       [0, 0, 1, ..., 0, 0, 0],\n",
              "       [0, 0, 1, ..., 0, 0, 0]])"
            ]
          },
          "metadata": {},
          "execution_count": 19
        }
      ]
    },
    {
      "cell_type": "code",
      "source": [
        "KNN_score = KNN.score(X_test_tfidf, y_test)\n",
        "KNN_score"
      ],
      "metadata": {
        "colab": {
          "base_uri": "https://localhost:8080/"
        },
        "id": "bKXo6IYtO1XX",
        "outputId": "5ede5d90-27eb-48df-decb-0f61582b76a0"
      },
      "execution_count": 20,
      "outputs": [
        {
          "output_type": "execute_result",
          "data": {
            "text/plain": [
              "0.5395161290322581"
            ]
          },
          "metadata": {},
          "execution_count": 20
        }
      ]
    },
    {
      "cell_type": "markdown",
      "source": [
        "### 3. Ada boost"
      ],
      "metadata": {
        "id": "_hrYDWxsPSCJ"
      }
    },
    {
      "cell_type": "code",
      "source": [
        "ADA = MultiOutputClassifier(estimator= AdaBoostClassifier()).fit(X_test_tfidf, y_test)\n",
        "ADA.predict(X_test_tfidf)"
      ],
      "metadata": {
        "colab": {
          "base_uri": "https://localhost:8080/"
        },
        "id": "L4Pzv_2-O3ii",
        "outputId": "e1409056-6885-4972-b227-5c9dd4231f08"
      },
      "execution_count": 21,
      "outputs": [
        {
          "output_type": "execute_result",
          "data": {
            "text/plain": [
              "array([[0, 0, 0, ..., 0, 0, 0],\n",
              "       [0, 0, 1, ..., 0, 0, 0],\n",
              "       [0, 0, 0, ..., 0, 0, 0],\n",
              "       ...,\n",
              "       [0, 0, 1, ..., 0, 0, 0],\n",
              "       [0, 0, 1, ..., 0, 0, 0],\n",
              "       [0, 0, 1, ..., 0, 0, 0]])"
            ]
          },
          "metadata": {},
          "execution_count": 21
        }
      ]
    },
    {
      "cell_type": "code",
      "source": [
        "ADA_score = ADA.score(X_test_tfidf, y_test)"
      ],
      "metadata": {
        "id": "FmmZRZnlPjT_"
      },
      "execution_count": 22,
      "outputs": []
    },
    {
      "cell_type": "markdown",
      "source": [
        "### 4. Gradient Boost"
      ],
      "metadata": {
        "id": "HdtdVFuHP4vS"
      }
    },
    {
      "cell_type": "code",
      "source": [
        "GRD = MultiOutputClassifier(estimator= GradientBoostingClassifier()).fit(X_test_tfidf, y_test)\n",
        "GRD.predict(X_test_tfidf)"
      ],
      "metadata": {
        "colab": {
          "base_uri": "https://localhost:8080/"
        },
        "id": "_s3qiIHvPmtt",
        "outputId": "973a5c5a-afd2-4839-dbac-6e31b8436c4f"
      },
      "execution_count": 23,
      "outputs": [
        {
          "output_type": "execute_result",
          "data": {
            "text/plain": [
              "array([[0, 0, 0, ..., 0, 0, 0],\n",
              "       [0, 0, 1, ..., 0, 0, 0],\n",
              "       [0, 0, 0, ..., 0, 0, 0],\n",
              "       ...,\n",
              "       [0, 0, 1, ..., 0, 0, 0],\n",
              "       [0, 0, 1, ..., 0, 0, 0],\n",
              "       [0, 0, 1, ..., 0, 0, 0]])"
            ]
          },
          "metadata": {},
          "execution_count": 23
        }
      ]
    },
    {
      "cell_type": "code",
      "source": [
        "GRD_score = GRD.score(X_test_tfidf, y_test)"
      ],
      "metadata": {
        "id": "wsQa_QHwP_Sr"
      },
      "execution_count": 24,
      "outputs": []
    },
    {
      "cell_type": "markdown",
      "source": [
        "### 5. Extra Trees"
      ],
      "metadata": {
        "id": "A7UNCExfQcJK"
      }
    },
    {
      "cell_type": "code",
      "source": [
        "EXT = MultiOutputClassifier(estimator= ExtraTreesClassifier()).fit(X_test_tfidf, y_test)\n",
        "EXT.predict(X_test_tfidf)"
      ],
      "metadata": {
        "colab": {
          "base_uri": "https://localhost:8080/"
        },
        "id": "1Ve6paU9QHgA",
        "outputId": "a107106f-dbda-4e75-dcba-6ca8d83be6c7"
      },
      "execution_count": 25,
      "outputs": [
        {
          "output_type": "execute_result",
          "data": {
            "text/plain": [
              "array([[0, 0, 0, ..., 0, 0, 0],\n",
              "       [0, 0, 1, ..., 0, 0, 0],\n",
              "       [0, 0, 0, ..., 0, 0, 0],\n",
              "       ...,\n",
              "       [0, 0, 1, ..., 0, 0, 0],\n",
              "       [0, 0, 1, ..., 0, 0, 0],\n",
              "       [0, 0, 1, ..., 0, 0, 0]])"
            ]
          },
          "metadata": {},
          "execution_count": 25
        }
      ]
    },
    {
      "cell_type": "code",
      "source": [
        "EXT_score = EXT.score(X_test_tfidf, y_test)"
      ],
      "metadata": {
        "id": "NE6sI-A-QXWK"
      },
      "execution_count": 26,
      "outputs": []
    },
    {
      "cell_type": "markdown",
      "source": [
        "### 6. Decision Tree"
      ],
      "metadata": {
        "id": "SHmUwkiEQc5i"
      }
    },
    {
      "cell_type": "code",
      "source": [
        "DTC = MultiOutputClassifier(estimator= DecisionTreeClassifier()).fit(X_test_tfidf, y_test)\n",
        "DTC.predict(X_test_tfidf)"
      ],
      "metadata": {
        "colab": {
          "base_uri": "https://localhost:8080/"
        },
        "id": "sCy0BjQIQWGP",
        "outputId": "a4c8f574-0ea7-4217-96ba-84e9a237139c"
      },
      "execution_count": 27,
      "outputs": [
        {
          "output_type": "execute_result",
          "data": {
            "text/plain": [
              "array([[0, 0, 0, ..., 0, 0, 0],\n",
              "       [0, 0, 1, ..., 0, 0, 0],\n",
              "       [0, 0, 0, ..., 0, 0, 0],\n",
              "       ...,\n",
              "       [0, 0, 1, ..., 0, 0, 0],\n",
              "       [0, 0, 1, ..., 0, 0, 0],\n",
              "       [0, 0, 1, ..., 0, 0, 0]])"
            ]
          },
          "metadata": {},
          "execution_count": 27
        }
      ]
    },
    {
      "cell_type": "code",
      "source": [
        "DTC_score = DTC.score(X_test_tfidf, y_test)"
      ],
      "metadata": {
        "id": "4NY-TLkKQYHR"
      },
      "execution_count": 28,
      "outputs": []
    },
    {
      "cell_type": "markdown",
      "source": [
        "### 7. Support Vector"
      ],
      "metadata": {
        "id": "i7jKC612Qeaz"
      }
    },
    {
      "cell_type": "code",
      "source": [
        "SVM = MultiOutputClassifier(estimator= SVC()).fit(X_test_tfidf, y_test)\n",
        "SVM.predict(X_test_tfidf)"
      ],
      "metadata": {
        "colab": {
          "base_uri": "https://localhost:8080/"
        },
        "id": "yN7Kf0u_QV1C",
        "outputId": "5753064f-8b17-48fa-8669-ebd95f7c8c68"
      },
      "execution_count": 29,
      "outputs": [
        {
          "output_type": "execute_result",
          "data": {
            "text/plain": [
              "array([[0, 0, 0, ..., 0, 0, 0],\n",
              "       [0, 0, 1, ..., 0, 0, 0],\n",
              "       [0, 0, 0, ..., 0, 0, 0],\n",
              "       ...,\n",
              "       [0, 0, 1, ..., 0, 0, 0],\n",
              "       [0, 0, 1, ..., 0, 0, 0],\n",
              "       [0, 0, 1, ..., 0, 0, 0]])"
            ]
          },
          "metadata": {},
          "execution_count": 29
        }
      ]
    },
    {
      "cell_type": "code",
      "source": [
        "SVM_score = SVM.score(X_test_tfidf, y_test)"
      ],
      "metadata": {
        "id": "N3dJgNfLQY9R"
      },
      "execution_count": 30,
      "outputs": []
    },
    {
      "cell_type": "markdown",
      "source": [
        "### 8. MLP(Multi-layer Perceptron)"
      ],
      "metadata": {
        "id": "fyEdkEoAQfMD"
      }
    },
    {
      "cell_type": "code",
      "source": [
        "MLP = MultiOutputClassifier(estimator= MLPClassifier()).fit(X_test_tfidf, y_test)\n",
        "MLP.predict(X_test_tfidf)"
      ],
      "metadata": {
        "colab": {
          "base_uri": "https://localhost:8080/"
        },
        "id": "s2uj0q6IQVd4",
        "outputId": "1b0f20f7-231d-45e4-976c-70e95b1bafdf"
      },
      "execution_count": 31,
      "outputs": [
        {
          "output_type": "execute_result",
          "data": {
            "text/plain": [
              "array([[0, 0, 0, ..., 0, 0, 0],\n",
              "       [0, 0, 1, ..., 0, 0, 0],\n",
              "       [0, 0, 0, ..., 0, 0, 0],\n",
              "       ...,\n",
              "       [0, 0, 1, ..., 0, 0, 0],\n",
              "       [0, 0, 1, ..., 0, 0, 0],\n",
              "       [0, 0, 1, ..., 0, 0, 0]])"
            ]
          },
          "metadata": {},
          "execution_count": 31
        }
      ]
    },
    {
      "cell_type": "code",
      "source": [
        "MLP_score = MLP.score(X_test_tfidf, y_test)"
      ],
      "metadata": {
        "id": "sqfo7mYGQaM6"
      },
      "execution_count": 32,
      "outputs": []
    },
    {
      "cell_type": "markdown",
      "source": [
        "### 9. Logistic Regression"
      ],
      "metadata": {
        "id": "sbTp8ZWAQfx5"
      }
    },
    {
      "cell_type": "code",
      "source": [
        "LGS = MultiOutputClassifier(estimator= LogisticRegression()).fit(X_test_tfidf, y_test)\n",
        "LGS.predict(X_test_tfidf)"
      ],
      "metadata": {
        "colab": {
          "base_uri": "https://localhost:8080/"
        },
        "id": "rnLJ-WZIQPU5",
        "outputId": "b7747e71-db08-4f8b-97d3-91a9b7baf914"
      },
      "execution_count": 33,
      "outputs": [
        {
          "output_type": "execute_result",
          "data": {
            "text/plain": [
              "array([[0, 0, 0, ..., 0, 0, 0],\n",
              "       [0, 0, 1, ..., 0, 0, 0],\n",
              "       [0, 0, 0, ..., 0, 0, 0],\n",
              "       ...,\n",
              "       [0, 0, 1, ..., 0, 0, 0],\n",
              "       [0, 0, 1, ..., 0, 0, 0],\n",
              "       [0, 0, 1, ..., 0, 0, 0]])"
            ]
          },
          "metadata": {},
          "execution_count": 33
        }
      ]
    },
    {
      "cell_type": "code",
      "source": [
        "LGS_score = LGS.score(X_test_tfidf, y_test)"
      ],
      "metadata": {
        "id": "zMd6G17cQavI"
      },
      "execution_count": 34,
      "outputs": []
    },
    {
      "cell_type": "code",
      "source": [
        "multi_dict = {'RFC_score':RFC_score,\n",
        "              'KNN_score':KNN_score,\n",
        "              'ADA_score':ADA_score,\n",
        "              'GRD_score':GRD_score,\n",
        "              'EXT_score':EXT_score,\n",
        "              'DTC_score':DTC_score,\n",
        "              'SVM_score':SVM_score,\n",
        "              'MLP_score':MLP_score,\n",
        "              'LGS_score':LGS_score}"
      ],
      "metadata": {
        "id": "jdzjdH5yReTt"
      },
      "execution_count": 35,
      "outputs": []
    },
    {
      "cell_type": "code",
      "source": [
        "import matplotlib.pyplot as plt\n",
        "\n",
        "plt.bar(*zip(*multi_dict.items()))\n",
        "plt.show()"
      ],
      "metadata": {
        "colab": {
          "base_uri": "https://localhost:8080/",
          "height": 266
        },
        "id": "GnYGsVznTsO3",
        "outputId": "6dc0241a-2f5b-4b39-cab5-a6df06a0b382"
      },
      "execution_count": 36,
      "outputs": [
        {
          "output_type": "display_data",
          "data": {
            "text/plain": [
              "<Figure size 432x288 with 1 Axes>"
            ],
            "image/png": "[encoded data removed]"
          },
          "metadata": {
            "needs_background": "light"
          }
        }
      ]
    },
    {
      "cell_type": "markdown",
      "source": [
        "별로인 모델은 누락 후, 괜찮은 모델들끼리 앙상블."
      ],
      "metadata": {
        "id": "NinujEA4VdaP"
      }
    },
    {
      "cell_type": "code",
      "source": [
        "print(RFC_score, KNN_score, ADA_score, GRD_score, EXT_score, DTC_score, SVM_score, MLP_score, LGS_score)"
      ],
      "metadata": {
        "id": "sMkJlEDmVhoK",
        "colab": {
          "base_uri": "https://localhost:8080/"
        },
        "outputId": "c616a0f8-ba91-479a-a106-93e30ba50f91"
      },
      "execution_count": 40,
      "outputs": [
        {
          "output_type": "stream",
          "name": "stdout",
          "text": [
            "0.9887096774193549 0.5395161290322581 0.6798387096774193 0.7653225806451613 0.9887096774193549 0.9887096774193549 0.7354838709677419 0.989516129032258 0.510483870967742\n"
          ]
        }
      ]
    },
    {
      "cell_type": "code",
      "source": [],
      "metadata": {
        "id": "BXdqbRB_GX7O"
      },
      "execution_count": null,
      "outputs": []
    }
  ]
}